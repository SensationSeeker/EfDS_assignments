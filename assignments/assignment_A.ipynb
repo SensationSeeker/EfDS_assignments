{
 "cells": [
  {
   "cell_type": "markdown",
   "metadata": {},
   "source": [
    "# Assignment A"
   ]
  },
  {
   "attachments": {},
   "cell_type": "markdown",
   "metadata": {},
   "source": [
    "### Nested loops with print (3p)"
   ]
  },
  {
   "attachments": {},
   "cell_type": "markdown",
   "metadata": {},
   "source": [
    "Build a function `printLines(num, rowFreq, colFreq)` printing a pattern as shown below:\n",
    "- `num` specifies the number of rows and columns with dots/stars\n",
    "- the top left corner should contain a star\n",
    "- every `rowFreq` rows there should be a row of stars\n",
    "- every `colFreq` columns there should be a column of stars\n",
    "- other places within `num`*`num` square should be filled with dots\n",
    "\n",
    "Here is an example of `printLines(18, rowFreq=5, colFreq=8)`:\n",
    "```\n",
    "******************\n",
    "*.......*.......*.\n",
    "*.......*.......*.\n",
    "*.......*.......*.\n",
    "*.......*.......*.\n",
    "******************\n",
    "*.......*.......*.\n",
    "*.......*.......*.\n",
    "*.......*.......*.\n",
    "*.......*.......*.\n",
    "******************\n",
    "*.......*.......*.\n",
    "*.......*.......*.\n",
    "*.......*.......*.\n",
    "*.......*.......*.\n",
    "******************\n",
    "*.......*.......*.\n",
    "*.......*.......*.\n",
    "```"
   ]
  },
  {
   "cell_type": "code",
   "execution_count": 9,
   "metadata": {
    "tags": [
     "solution_nlwp"
    ]
   },
   "outputs": [
    {
     "name": "stdout",
     "output_type": "stream",
     "text": [
      "********************\n",
      "*.......*.......*...\n",
      "*.......*.......*...\n",
      "*.......*.......*...\n",
      "*.......*.......*...\n",
      "*.......*.......*...\n",
      "*.......*.......*...\n",
      "********************\n",
      "*.......*.......*...\n",
      "*.......*.......*...\n",
      "*.......*.......*...\n",
      "*.......*.......*...\n",
      "*.......*.......*...\n",
      "*.......*.......*...\n",
      "********************\n",
      "*.......*.......*...\n",
      "*.......*.......*...\n",
      "*.......*.......*...\n",
      "*.......*.......*...\n",
      "*.......*.......*...\n"
     ]
    }
   ],
   "source": [
    "# ----- SOLUTION START -----\n",
    "\n",
    "def printLines(num, rowFreq, colFreq):\n",
    "\n",
    "    \n",
    "    for row in range(num):\n",
    "\n",
    "        #remainer is zero when current row is a multiple of rowFreq\n",
    "        if row % rowFreq == 0:\n",
    "\n",
    "            #print row of stars\n",
    "            print('*' * num)  \n",
    "        else:\n",
    "            line = '' # empty line to initialize the pattern\n",
    "            for col in range(num):\n",
    "\n",
    "                # if column is a multiple of colFreq, add star\n",
    "                if col % colFreq == 0:\n",
    "                    line += '*' \n",
    "                else:\n",
    "                    line += '.'\n",
    "            print(line)\n",
    "\n",
    "\n",
    "# ----- SOLUTION END -----\n",
    "\n",
    "printLines(20, rowFreq=7, colFreq=8)"
   ]
  },
  {
   "attachments": {},
   "cell_type": "markdown",
   "metadata": {},
   "source": [
    "### Generating random user names (10p)"
   ]
  },
  {
   "attachments": {},
   "cell_type": "markdown",
   "metadata": {},
   "source": [
    "Write a function generating random full names of people, mixing provided first names and last names:\n",
    "- The name and the arguments of the function should be `genRandomNames( num, firstNamesStr, lastNamesStr )`:\n",
    "    - `num`: An integer number giving the number of full names to generate.\n",
    "    - `firstNamesStr`: A single `str` text with common first names to be chosen from. The first names in the string are separated by spaces. See the example below.\n",
    "    - `lastNamesStr` - As above: a string with last names separated by spaces.\n",
    "- The function should return a list with `num` elements. Each element should be a tuple (first,last) representing a full name.\n",
    "- Duplicates are not allowed (in the returned list there can be no two tuples representing an identical full name, but there can be two names with the same first name). If `num` is too large (i.e. so many pairs cannot be constructed from the provided first and last names) the function should raise an exception.\n",
    "- The returned list should be randomly chosen and ordered. In general, subsequent calls to the function should generate different results.\n",
    "- (optional) Aim for a solution which does not generate all possible (first, last) name combinations.\n",
    "\n",
    "*Hint:* `from random import sample`  \n",
    "*Hint:* `str.split`  \n",
    "*Hint:* E.g. 6:37AM is 6 hours and 37 minutes after midnight but also 397 minutes after midnight. Integer/rest division."
   ]
  },
  {
   "cell_type": "code",
   "execution_count": 34,
   "metadata": {
    "tags": [
     "solution_grun"
    ]
   },
   "outputs": [
    {
     "ename": "Exception",
     "evalue": "There are not as many names available as you wish to create.",
     "output_type": "error",
     "traceback": [
      "\u001b[0;31m---------------------------------------------------------------------------\u001b[0m",
      "\u001b[0;31mException\u001b[0m                                 Traceback (most recent call last)",
      "Cell \u001b[0;32mIn[34], line 37\u001b[0m\n\u001b[1;32m     34\u001b[0m firstNamesStr \u001b[38;5;241m=\u001b[39m \u001b[38;5;124m\"\u001b[39m\u001b[38;5;124mMeintje Franka Meindert Grant Wanda Bishop Susanna Josephus Grzegorz Ursula Augusta Roseann Jade Kyla Kylie Konstanty Lyda Aric Mona Coenraad Kirrily Noah Estera Ward Zygfryd Dagmara\u001b[39m\u001b[38;5;124m\"\u001b[39m\n\u001b[1;32m     35\u001b[0m lastNamesStr \u001b[38;5;241m=\u001b[39m \u001b[38;5;124m\"\u001b[39m\u001b[38;5;124mJansen Bakker Visser Smit Bos Dekker Dijkstra Nowak Wójcik Mazur Lewandowski Dąbrowski Brzęczyszczykiewicz Żółciński Meyer Schmidt Müller Becker Hoffmann Rodrigues Sousa Alves Vieira Cruz\u001b[39m\u001b[38;5;124m\"\u001b[39m\n\u001b[0;32m---> 37\u001b[0m \u001b[43mgenRandomNames\u001b[49m\u001b[43m(\u001b[49m\u001b[38;5;241;43m30\u001b[39;49m\u001b[43m,\u001b[49m\u001b[43m \u001b[49m\u001b[43mfirstNamesStr\u001b[49m\u001b[43m,\u001b[49m\u001b[43m \u001b[49m\u001b[43mlastNamesStr\u001b[49m\u001b[43m)\u001b[49m\n\u001b[1;32m     38\u001b[0m \u001b[38;5;66;03m#genRandomNames( 5, firstNamesStr, lastNamesStr ) # example of an expected result:\u001b[39;00m\n\u001b[1;32m     39\u001b[0m                                                   \u001b[38;5;66;03m# [('Kirrily', 'Cruz'),\u001b[39;00m\n\u001b[1;32m     40\u001b[0m                                                   \u001b[38;5;66;03m#  ('Zygfryd', 'Alves'),\u001b[39;00m\n\u001b[1;32m     41\u001b[0m                                                   \u001b[38;5;66;03m#  ('Estera', 'Bakker'),\u001b[39;00m\n\u001b[1;32m     42\u001b[0m                                                   \u001b[38;5;66;03m#  ('Lyda', 'Cruz'),\u001b[39;00m\n\u001b[1;32m     43\u001b[0m                                                   \u001b[38;5;66;03m#  ('Grzegorz', 'Mazur')]\u001b[39;00m\n",
      "Cell \u001b[0;32mIn[34], line 12\u001b[0m, in \u001b[0;36mgenRandomNames\u001b[0;34m(num, firstNamesStr, lastNamesStr)\u001b[0m\n\u001b[1;32m     10\u001b[0m \u001b[38;5;66;03m#control and raise error\u001b[39;00m\n\u001b[1;32m     11\u001b[0m \u001b[38;5;28;01mif\u001b[39;00m num \u001b[38;5;241m>\u001b[39m \u001b[38;5;28mlen\u001b[39m(lastNames):\n\u001b[0;32m---> 12\u001b[0m     \u001b[38;5;28;01mraise\u001b[39;00m \u001b[38;5;167;01mException\u001b[39;00m(\u001b[38;5;124m'\u001b[39m\u001b[38;5;124mThere are not as many names available as you wish to create.\u001b[39m\u001b[38;5;124m'\u001b[39m)\n\u001b[1;32m     13\u001b[0m \u001b[38;5;28;01melse\u001b[39;00m:\n\u001b[1;32m     15\u001b[0m     random\u001b[38;5;241m.\u001b[39mshuffle(firstNames)\n",
      "\u001b[0;31mException\u001b[0m: There are not as many names available as you wish to create."
     ]
    }
   ],
   "source": [
    "# ----- SOLUTION START -----\n",
    "import random\n",
    "\n",
    "def genRandomNames(num, firstNamesStr, lastNamesStr):\n",
    "\n",
    "    # split string into tokens\n",
    "    firstNames = firstNamesStr.split(' ')\n",
    "    lastNames = lastNamesStr.split(' ')\n",
    "\n",
    "    #control and raise error\n",
    "    if num > len(lastNames):\n",
    "        raise Exception('There are not as many names available as you wish to create.')\n",
    "    else:\n",
    "\n",
    "        random.shuffle(firstNames)\n",
    "\n",
    "        # sampling with replacement\n",
    "        rand_first = [random.choice(firstNames) for _ in range(num)]\n",
    "\n",
    "        random.shuffle(lastNames)\n",
    "\n",
    "        # sampling without replacement\n",
    "        rand_last = random.sample(lastNames, num)\n",
    "\n",
    "        pairs = list(zip(rand_first, rand_last))\n",
    "\n",
    "        print(pairs)\n",
    "\n",
    "\n",
    "\n",
    "\n",
    "# ----- SOLUTION END -----\n",
    "\n",
    "firstNamesStr = \"Meintje Franka Meindert Grant Wanda Bishop Susanna Josephus Grzegorz Ursula Augusta Roseann Jade Kyla Kylie Konstanty Lyda Aric Mona Coenraad Kirrily Noah Estera Ward Zygfryd Dagmara\"\n",
    "lastNamesStr = \"Jansen Bakker Visser Smit Bos Dekker Dijkstra Nowak Wójcik Mazur Lewandowski Dąbrowski Brzęczyszczykiewicz Żółciński Meyer Schmidt Müller Becker Hoffmann Rodrigues Sousa Alves Vieira Cruz\"\n",
    "\n",
    "genRandomNames(30, firstNamesStr, lastNamesStr)\n",
    "#genRandomNames( 5, firstNamesStr, lastNamesStr ) # example of an expected result:\n",
    "                                                  # [('Kirrily', 'Cruz'),\n",
    "                                                  #  ('Zygfryd', 'Alves'),\n",
    "                                                  #  ('Estera', 'Bakker'),\n",
    "                                                  #  ('Lyda', 'Cruz'),\n",
    "                                                  #  ('Grzegorz', 'Mazur')]"
   ]
  },
  {
   "attachments": {},
   "cell_type": "markdown",
   "metadata": {},
   "source": [
    "### Sorting by a user-defined function (6p)"
   ]
  },
  {
   "attachments": {},
   "cell_type": "markdown",
   "metadata": {},
   "source": [
    "Write a function `sortByDist( ps )`:\n",
    "- The argument `ps` is a list of two-element tuples with (x,y) coordinates of points on a two dimensional plane.  \n",
    "- The list `ps` should become sorted with increasing distance to the origin.  \n",
    "- The function should return nothing.\n",
    "- The function should have a *docstring* with a short description of what it does.\n",
    "\n",
    "*Hint:* understand all arguments of the `list.sort(...)` method."
   ]
  },
  {
   "cell_type": "code",
   "execution_count": null,
   "metadata": {
    "tags": [
     "solution_sudf"
    ]
   },
   "outputs": [],
   "source": [
    "# ----- SOLUTION START -----\n",
    "# ...\n",
    "# ----- SOLUTION END -----\n",
    "\n",
    "examplePs = [ (1,-1), (2,0), (3,1), (-4,-1), (0,2), (0,0) ]\n",
    "# sortByDist( examplePs )     # expected:\n",
    "examplePs                     # [(0, 0), (1, -1), (2, 0), (0, 2), (3, 1), (-4, -1)]"
   ]
  },
  {
   "attachments": {},
   "cell_type": "markdown",
   "metadata": {},
   "source": [
    "### A graph and degrees of vertices (6p)"
   ]
  },
  {
   "attachments": {},
   "cell_type": "markdown",
   "metadata": {},
   "source": [
    "The Wikipedia page [Graph (discrete mathematics)](https://en.wikipedia.org/wiki/Graph_(discrete_mathematics)) provides an example illustration of *a (undirected) graph with six vertices and seven edges*.  \n",
    "The *degree* of a vertex is a number of edges connected to the vertex (a vertex with a loop, i.e. with an edge to itself, contributes with 2 edges).\n",
    "\n",
    "Create two objects to represent the Wikipedia graph:\n",
    "- `vs` should be a `set` of vertices (i.e. identifiers of the vertices: `1`, `2`, `...`);\n",
    "- `es` should be a `set` of edges (two-element tuples with names of connected vertices).\n",
    "\n",
    "Modify manually `vs` and `es` as follows:\n",
    "- add a vertex `10` which has an edge to itself;\n",
    "- add a vertex `20` without any edges.\n",
    "\n",
    "Finally, write a function `verticesDegrees( vs, es )` to calculate degrees of all vertices in the graph.  \n",
    "The function should return a dictionary mapping vertex identifiers to their degrees.  \n",
    "\n",
    "*Note:* `vs` should be a `set` because each vertex must have a unique identifier.  \n",
    "*Note:* `es` should be a `set` because in undirected graph there can be only one edge between two vertices. This is still not enough to avoid duplicated edges - consider tuples `(3,4)` vs. `(4,3)`."
   ]
  },
  {
   "cell_type": "code",
   "execution_count": 37,
   "metadata": {
    "tags": [
     "solution_gdv"
    ]
   },
   "outputs": [
    {
     "data": {
      "text/plain": [
       "{1: 2, 2: 3, 3: 2, 4: 3, 5: 3, 6: 1, 20: 0, 10: 2}"
      ]
     },
     "execution_count": 37,
     "metadata": {},
     "output_type": "execute_result"
    }
   ],
   "source": [
    "# ----- SOLUTION START -----\n",
    "\n",
    "# vertices\n",
    "vs = {1, 2, 3, 4, 5, 6}\n",
    "\n",
    "# edges\n",
    "es = {(1, 2), (1, 5), (2, 3), (2, 5), (4, 5), (3, 4), (4, 6)}\n",
    "\n",
    "# Add vertices and edges manually\n",
    "vs.add(10)\n",
    "vs.add(20)\n",
    "es.add((10, 10))\n",
    "\n",
    "# verticesDegrees function\n",
    "def verticesDegrees(vs, es):\n",
    "\n",
    "    # initialize dict\n",
    "    degrees = {vertex: 0 for vertex in vs}\n",
    "\n",
    "    # go through each edge\n",
    "    for edge in es:\n",
    "\n",
    "        # count of vertices and add to dict\n",
    "        for vertex in edge:\n",
    "            degrees[vertex] += 1\n",
    "\n",
    "    return degrees\n",
    "\n",
    "# ----- SOLUTION END -----\n",
    "\n",
    "# verticesDegrees( vs, es )    # expected dictionary for the manually modified graph:\n",
    "# {1: 2, 2: 3, 3: 2, 4: 3, 5: 3, 6: 1, 10: 2, 20: 0}\n",
    "verticesDegrees(vs, es)"
   ]
  },
  {
   "attachments": {},
   "cell_type": "markdown",
   "metadata": {},
   "source": [
    "### Drawing a graph with graphviz dot online tool (3p)"
   ]
  },
  {
   "attachments": {},
   "cell_type": "markdown",
   "metadata": {},
   "source": [
    "[Graphviz](https://graphviz.org/about/) is a software package for automatic drawing of graphs.  \n",
    "It defines the [DOT Language](https://graphviz.org/doc/info/lang.html) which allows to describe a graph to be drawn.  \n",
    "The graph from the previous task can be described in DOT as in the example below:\n",
    "\n",
    "- Single numbers define the vertices of the graph.\n",
    "- Two minus signs (`--`) define an edge.\n",
    "\n",
    "The Graphviz online tool (https://dreampuf.github.io/GraphvizOnline/) may be used to check whether you generated a correct DOT code.  \n",
    "[See the example in the online tool](https://dreampuf.github.io/GraphvizOnline/#graph%20%7B%0A%20%201%0A%20%202%0A%20%203%0A%20%204%0A%20%205%0A%20%206%0A%20%2010%0A%20%2020%0A%20%201%20--%202%0A%20%201%20--%205%0A%20%202%20--%203%0A%20%202%20--%205%0A%20%203%20--%204%0A%20%204%20--%205%0A%20%204%20--%206%0A%20%2010%20--%2010%0A%7D).\n",
    "\n",
    "Write a function `graphvizDotPrint( vs, es )` with the arguments as in the previous task.  \n",
    "The function should print the DOT language description of any graph provided by the `vs` and `es` arguments.  \n",
    "For the Wikipedia page example graph, its description in the DOT language could be:\n",
    "\n",
    "```{dot}\n",
    "graph {\n",
    "  1\n",
    "  2\n",
    "  3\n",
    "  4\n",
    "  5\n",
    "  6\n",
    "  10\n",
    "  20\n",
    "  1 -- 2\n",
    "  1 -- 5\n",
    "  2 -- 3\n",
    "  2 -- 5\n",
    "  3 -- 4\n",
    "  4 -- 5\n",
    "  4 -- 6\n",
    "  10 -- 10\n",
    "}\n",
    "```"
   ]
  },
  {
   "cell_type": "code",
   "execution_count": 41,
   "metadata": {
    "tags": [
     "solution_dot"
    ]
   },
   "outputs": [
    {
     "name": "stdout",
     "output_type": "stream",
     "text": [
      "graph {\n",
      "  1\n",
      "  2\n",
      "  3\n",
      "  4\n",
      "  5\n",
      "  1 -- 5\n",
      "  5 -- 4\n",
      "  1 -- 4\n",
      "  4 -- 2\n",
      "  5 -- 3\n",
      "  3 -- 2\n",
      "  2 -- 5\n",
      "  1 -- 3\n",
      "}\n"
     ]
    }
   ],
   "source": [
    "# ----- SOLUTION START -----\n",
    "\n",
    "# wikipedia graph\n",
    "#vs = {1, 2, 3, 4, 5, 6, 10, 20}\n",
    "#es = {(1, 2), (1, 5), (2, 3), (2, 4), (2, 5), (3, 4), (4, 5), (4, 6), (10, 10)}\n",
    "\n",
    "# my own example\n",
    "vs = {1, 2, 3, 4, 5}\n",
    "es = {(1,3), (1,4), (1,5), (3,2), (4,2), (2,5), (5,3), (5,4)}\n",
    "\n",
    "\n",
    "def graphvizDotPrint(vs, es):\n",
    "    print(\"graph {\")\n",
    "\n",
    "    for vertex in vs:\n",
    "        print(f\"  {vertex}\")\n",
    "\n",
    "    for edge in es:\n",
    "        print(f\"  {edge[0]} -- {edge[1]}\")\n",
    "\n",
    "    print(\"}\")\n",
    "\n",
    "\n",
    "\n",
    "# ----- SOLUTION END -----\n",
    "\n",
    "graphvizDotPrint(vs, es)"
   ]
  }
 ],
 "metadata": {
  "kernelspec": {
   "display_name": "jupyter",
   "language": "python",
   "name": "python3"
  },
  "language_info": {
   "codemirror_mode": {
    "name": "ipython",
    "version": 3
   },
   "file_extension": ".py",
   "mimetype": "text/x-python",
   "name": "python",
   "nbconvert_exporter": "python",
   "pygments_lexer": "ipython3",
   "version": "3.12.0"
  },
  "orig_nbformat": 4,
  "vscode": {
   "interpreter": {
    "hash": "0fadeaac72bf3c14f9665939c662a31c8aa4e36681a8cd408ae34884627e6cff"
   }
  }
 },
 "nbformat": 4,
 "nbformat_minor": 2
}
